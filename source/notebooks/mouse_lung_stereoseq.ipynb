{
 "cells": [
  {
   "attachments": {},
   "cell_type": "markdown",
   "metadata": {},
   "source": [
    "# Mouse Lung (Stereo-Seq)"
   ]
  },
  {
   "cell_type": "code",
   "execution_count": 33,
   "metadata": {},
   "outputs": [],
   "source": [
    "import anndata\n",
    "import scanpy as sc\n",
    "import os\n",
    "import sys\n",
    "import pandas as pd\n",
    "import matplotlib.pyplot as plt\n",
    "%reload_ext autoreload\n",
    "%autoreload 2\n",
    "root_dir = os.path.join(os.getcwd(), '..')\n",
    "if root_dir not in sys.path:\n",
    "    sys.path.append(root_dir)\n",
    "import spider\n",
    "from spider import SPIDER\n",
    "op=SPIDER()"
   ]
  },
  {
   "cell_type": "code",
   "execution_count": 34,
   "metadata": {},
   "outputs": [
    {
     "name": "stdout",
     "output_type": "stream",
     "text": [
      "Using the results from SVI identification methods: ['SOMDE' 'SpatialDE' 'SPARKX' 'nnSVG' 'scGCO' 'gearyC' 'moranI']\n",
      "37/1903 SVIs identified (threshold=0.01).\n"
     ]
    },
    {
     "data": {
      "text/plain": [
       "(AnnData object with n_obs × n_vars = 38634 × 25687\n",
       "     obs: 'annotation', 'row', 'col'\n",
       "     var: 'gene_ids', 'feature_types'\n",
       "     uns: 'gearyC', 'spatial_neighbors'\n",
       "     obsm: 'spatial'\n",
       "     layers: 'raw_counts'\n",
       "     obsp: 'spatial_connectivities', 'spatial_distances',\n",
       " AnnData object with n_obs × n_vars = 76818 × 1903\n",
       "     obs: 'A', 'B', 'A_row', 'A_col', 'B_row', 'B_col', 'A_label', 'B_label', 'A_label_int', 'B_label_int', 'label_1', 'label_2', 'label_int', 'label', 'row', 'col', 'dist', 'n_genes_by_counts', 'log1p_n_genes_by_counts', 'total_counts', 'log1p_total_counts', 'n_genes', 'total_count', 'som_node'\n",
       "     var: 'is_svi', 'label', 'pattern_membership_0', 'pattern_membership_1', 'pattern_membership_2', 'pattern_membership_3', 'pattern_membership_4', 'pattern_membership_5', 'pattern_membership_6'\n",
       "     uns: 'SPARKX', 'SpatialDE', 'cell_meta', 'gearyC', 'lr_meta', 'moranI', 'nnSVG', 'nnSVG_time', 'scGCO', 'scGCO_time', 'SOMDE'\n",
       "     obsm: 'pattern_score', 'spatial'\n",
       "     varm: 'svi'\n",
       "     obsp: 'spatial_connectivities', 'spatial_distances')"
      ]
     },
     "execution_count": 34,
     "metadata": {},
     "output_type": "execute_result"
    }
   ],
   "source": [
    "out_f = '../data/mouse_lung/E5_meta/'\n",
    "adata = anndata.read_h5ad(f'{out_f}adata.h5ad')\n",
    "idata = anndata.read_h5ad(f'{out_f}idata.h5ad')\n",
    "result = pd.read_csv(f'{out_f}SOMDE.csv', index_col=0)\n",
    "idata.uns['SOMDE'] = result\n",
    "svi_df, svi_df_strict = op.svi.combine_SVI(idata,threshold=0.01)\n",
    "adata, idata"
   ]
  },
  {
   "cell_type": "code",
   "execution_count": 4,
   "metadata": {},
   "outputs": [],
   "source": [
    "out_f = '../data/mouse_lung/D2_meta/'\n",
    "# adata = anndata.read_h5ad(f'{out_f}adata.h5ad')\n",
    "idata = anndata.read_h5ad(f'{out_f}idata.h5ad')\n",
    "idata.to_df().to_csv(f'/home/lishiying/workspace/08-causality/input/2023_4_7_input/D2_idata_count.csv')\n"
   ]
  },
  {
   "cell_type": "code",
   "execution_count": 44,
   "metadata": {},
   "outputs": [
    {
     "data": {
      "text/plain": [
       "AnnData object with n_obs × n_vars = 75514 × 1911\n",
       "    obs: 'A', 'B', 'A_row', 'A_col', 'B_row', 'B_col', 'A_label', 'B_label', 'A_label_int', 'B_label_int', 'label_1', 'label_2', 'label_int', 'label', 'row', 'col', 'dist', 'n_genes_by_counts', 'log1p_n_genes_by_counts', 'total_counts', 'log1p_total_counts', 'n_genes', 'total_count', 'som_node'\n",
       "    var: 'is_svi', 'label', 'pattern_membership_0', 'pattern_membership_1', 'pattern_membership_2', 'pattern_membership_3'\n",
       "    uns: 'SPARKX', 'SpatialDE', 'cell_meta', 'gearyC', 'lr_meta', 'moranI', 'nnSVG', 'nnSVG_time', 'scGCO', 'scGCO_time'\n",
       "    obsm: 'pattern_score', 'spatial'\n",
       "    obsp: 'spatial_connectivities', 'spatial_distances'"
      ]
     },
     "execution_count": 44,
     "metadata": {},
     "output_type": "execute_result"
    }
   ],
   "source": [
    "idata"
   ]
  },
  {
   "cell_type": "code",
   "execution_count": 54,
   "metadata": {},
   "outputs": [],
   "source": [
    "adata.uns['moranI']=pd.read_csv(f'{out_f}svg_moranI.csv',index_col=0)"
   ]
  },
  {
   "cell_type": "code",
   "execution_count": 46,
   "metadata": {},
   "outputs": [
    {
     "data": {
      "text/plain": [
       "AnnData object with n_obs × n_vars = 37989 × 25399\n",
       "    obs: 'annotation', 'row', 'col'\n",
       "    var: 'gene_ids', 'feature_types'\n",
       "    uns: 'gearyC', 'spatial_neighbors', 'moranI'\n",
       "    obsm: 'spatial'\n",
       "    layers: 'raw_counts'\n",
       "    obsp: 'spatial_connectivities', 'spatial_distances'"
      ]
     },
     "execution_count": 46,
     "metadata": {},
     "output_type": "execute_result"
    }
   ],
   "source": [
    "adata"
   ]
  },
  {
   "cell_type": "code",
   "execution_count": 55,
   "metadata": {},
   "outputs": [],
   "source": [
    "fn='mouse_lung_stereoseq_E5'\n",
    "cluster_key='annotation'"
   ]
  },
  {
   "cell_type": "code",
   "execution_count": 56,
   "metadata": {},
   "outputs": [],
   "source": [
    "result = pd.read_csv(f'{out_f}SOMDE.csv', index_col=0)\n",
    "idata.uns['SOMDE'] = result"
   ]
  },
  {
   "cell_type": "code",
   "execution_count": null,
   "metadata": {},
   "outputs": [],
   "source": [
    "svi_df, svi_df_strict = op.svi.combine_SVI(idata,threshold=0.01)\n",
    "op.svi.eva_SVI(idata, svi_df_strict)\n",
    "plt.savefig(f'../figures/{fn}_metric.png')\n",
    "plt.close()\n",
    "merged_df,lri_pw_list,gene_lr_list,gene_pw_list = op.vis.svg_svi_relation(adata, idata, title=fn.replace('_',' '), is_human=False)\n",
    "plt.savefig(f'../figures/{fn}_intersect.png', dpi=600,bbox_inches='tight')\n",
    "idata.var[[f'pattern_correlation_{x}' for x in range(idata.obsm['pattern_score'].shape[1])]] = 0\n",
    "corr_df=pd.concat([idata[:,idata.var['is_svi']==1].to_df(),pd.DataFrame(idata.obsm['pattern_score'],index=idata.obs_names)],axis=1).corr().loc[idata[:,idata.var['is_svi']==1].var_names, range(idata.obsm['pattern_score'].shape[1])]\n",
    "idata.var.loc[idata[:,idata.var['is_svi']==1].var_names, [f'pattern_correlation_{x}' for x in range(idata.obsm['pattern_score'].shape[1])]] = corr_df.to_numpy()\n",
    "op.vis.pattern_LRI(idata,show_SVI=10)\n",
    "plt.tight_layout()\n",
    "plt.savefig(f'../figures/{fn}_patterns.png', dpi=600,bbox_inches='tight')\n",
    "plt.close()\n",
    "merged_df_edge, arr = op.er.pattern_enrichment_edge(idata,is_human=False)\n",
    "merged_df_node, arr = op.er.pattern_enrichment_node(idata,is_human=False)\n",
    "op.vis.enrichment(merged_df_node,x_key='label', cutoff=0.01, top_term=20,save=f'../figures/{fn}_enrichment_node.png')\n",
    "op.vis.enrichment(merged_df_edge,x_key='label', cutoff=0.05, top_term=20,save=f'../figures/{fn}_enrichment_edge.png')\n",
    "adata, adata_lri, adata_pattern = op.cell_transform(idata, adata, label=cluster_key)\n",
    "sc.pl.rank_genes_groups_dotplot(adata_pattern, n_genes=5, standard_scale='var', cmap='plasma',show=False)\n",
    "plt.savefig(f'../figures/{fn}_enrichment_pattern.png', bbox_inches=\"tight\",dpi=300)\n",
    "sc.pl.rank_genes_groups_dotplot(adata_lri, n_genes=5, standard_scale='var', cmap='plasma',show=False)\n",
    "plt.savefig(f'../figures/{fn}_enrichment_SVI.png', bbox_inches=\"tight\",dpi=300)"
   ]
  },
  {
   "cell_type": "code",
   "execution_count": 29,
   "metadata": {},
   "outputs": [
    {
     "name": "stdout",
     "output_type": "stream",
     "text": [
      "Added key cell_pattern in idata.uns\n",
      "Added key cell_score in idata.uns\n",
      "Added key interaction_pattern, interaction_score in adata.obsm\n",
      "WARNING: Default of the method has been changed to 't-test' from 't-test_overestim_var'\n",
      "WARNING: Default of the method has been changed to 't-test' from 't-test_overestim_var'\n",
      "Added key rank_interaction_score_groups, rank_interaction_pattern_groups in adata.uns\n"
     ]
    }
   ],
   "source": [
    "out_f = '../data/mouse_lung/E5_meta/'\n",
    "adata = anndata.read_h5ad(f'{out_f}adata.h5ad')\n",
    "idata = anndata.read_h5ad(f'{out_f}idata.h5ad')\n",
    "fn='mouse_lung_stereoseq_E5'\n",
    "cluster_key='annotation'\n",
    "result = pd.read_csv(f'{out_f}SOMDE.csv', index_col=0)\n",
    "idata.uns['SOMDE'] = result\n",
    "adata, adata_lri, adata_pattern = op.cell_transform(idata, adata, label=cluster_key)\n",
    "adata.obsm['spatial']=adata.obsm['spatial'].to_numpy().astype(int)\n",
    "# sc.pl.rank_genes_groups_dotplot(adata_lri, n_genes=5, standard_scale='var', cmap='plasma',show=False)"
   ]
  },
  {
   "cell_type": "code",
   "execution_count": 18,
   "metadata": {},
   "outputs": [],
   "source": [
    "dummy=pd.get_dummies(adata.obs['annotation'])\n",
    "dummy['exp']=adata.to_df()['Cyp2f2']\n",
    "bronchioli = adata.obs['annotation'].unique()[dummy.corr().loc['exp', adata.obs['annotation'].unique()].argmax()]\n",
    "adata.obs['Bronchioli']=(adata.obs['annotation']==bronchioli).astype(int)\n",
    "df_plot = adata.obs\n",
    "df_plot[['Chad_Itgb1', 'Cd14_Itgb1', 'Cd14_Tlr3']]=adata_lri.to_df()[['Chad_Itgb1', 'Cd14_Itgb1', 'Cd14_Tlr3']]\n",
    "df_plot[['x','y']]=adata.obsm['spatial']\n",
    "plt.figure(figsize=(10, 3))\n",
    "count=1\n",
    "for i in ['Bronchioli', 'Chad_Itgb1', 'Cd14_Itgb1', 'Cd14_Tlr3']:\n",
    "    plt.subplot(1, 4, count)\n",
    "    im=plt.scatter(df_plot['x'], df_plot['y'], c=df_plot[i], s=1, cmap='plasma')\n",
    "    plt.axis('equal')\n",
    "    plt.axis('off')\n",
    "    plt.title(i)\n",
    "    plt.colorbar(im,fraction=0.046, pad=0.04)\n",
    "    count += 1\n",
    "plt.tight_layout()\n",
    "plt.savefig(f'../figures/{fn}_Bronchioli.png', dpi=600,bbox_inches='tight')\n",
    "plt.close()"
   ]
  },
  {
   "cell_type": "code",
   "execution_count": 30,
   "metadata": {},
   "outputs": [],
   "source": [
    "df_plot = adata.obs\n",
    "df_plot[['Col1a1_Itgb1', 'Col1a1_Cd93', 'Col1a2_Itgb1']]=adata_lri.to_df()[['Col1a1_Itgb1', 'Col1a1_Cd93', 'Col1a2_Itgb1']]\n",
    "# df_plot['Nr5a1']=adata.to_df()['Nr5a1\"']\n",
    "df_plot[['x','y']]=adata.obsm['spatial']\n",
    "plt.figure(figsize=(10, 3))\n",
    "count=1\n",
    "for i in ['Col1a1_Itgb1', 'Col1a1_Cd93', 'Col1a2_Itgb1']:\n",
    "    plt.subplot(1, 4, count)\n",
    "    im=plt.scatter(df_plot['x'], df_plot['y'], c=df_plot[i], s=1, cmap='plasma')\n",
    "    plt.axis('equal')\n",
    "    plt.axis('off')\n",
    "    plt.title(i)\n",
    "    plt.colorbar(im,fraction=0.046, pad=0.04)\n",
    "    count += 1\n",
    "plt.tight_layout()\n",
    "plt.savefig(f'../figures/{fn}_AD.png', dpi=600,bbox_inches='tight')\n",
    "plt.close()"
   ]
  },
  {
   "cell_type": "code",
   "execution_count": null,
   "metadata": {},
   "outputs": [],
   "source": []
  }
 ],
 "metadata": {
  "kernelspec": {
   "display_name": "lsy",
   "language": "python",
   "name": "python3"
  },
  "language_info": {
   "codemirror_mode": {
    "name": "ipython",
    "version": 3
   },
   "file_extension": ".py",
   "mimetype": "text/x-python",
   "name": "python",
   "nbconvert_exporter": "python",
   "pygments_lexer": "ipython3",
   "version": "3.9.12"
  },
  "orig_nbformat": 4,
  "vscode": {
   "interpreter": {
    "hash": "8b4ea6fbb55a4f953760a5f2712122eeb0aaa21b8fb3c431c9af9e8bbad4363d"
   }
  }
 },
 "nbformat": 4,
 "nbformat_minor": 2
}
